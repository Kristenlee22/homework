{
 "cells": [
  {
   "cell_type": "markdown",
   "metadata": {},
   "source": [
    "## Favorite Fish Family:  Paralichthyidae (Large Tooth Flounders)\n",
    "\n",
    "### I used JSON API to extract the species and genus of the fish in the family paralichthyidae. And I also extracted whether it was dangerours (harmless or venomous) and if the fish is used for aquacultures. Then I used a for loop to repeat this for each fish and combine the data."
   ]
  },
  {
   "cell_type": "code",
   "execution_count": 58,
   "metadata": {
    "collapsed": false
   },
   "outputs": [
    {
     "name": "stdout",
     "output_type": "stream",
     "text": [
      "The species dahli of genus Anodontiglanis is harmless and is used for Aquacultures never/rarely\n",
      "The species macrocephalus of genus Cnidoglanis is venomous and is used for Aquacultures never/rarely\n",
      "The species lepturus of genus Euristhmus is harmless and is used for Aquacultures never/rarely\n",
      "The species microceps of genus Euristhmus is harmless and is used for Aquacultures never/rarely\n",
      "The species microphthalmus of genus Euristhmus is harmless and is used for Aquacultures never/rarely\n",
      "The species nudiceps of genus Euristhmus is harmless and is used for Aquacultures never/rarely\n",
      "The species sandrae of genus Euristhmus is harmless and is used for Aquacultures never/rarely\n",
      "The species cooperensis of genus Neosiluroides is harmless and is used for Aquacultures never/rarely\n",
      "The species ater of genus Neosilurus is venomous and is used for Aquacultures experimental\n",
      "The species brevidorsalis of genus Neosilurus is venomous and is used for Aquacultures never/rarely\n"
     ]
    }
   ],
   "source": [
    "import urllib.request\n",
    "import json\n",
    "\n",
    "api_url = \"https://fishbase.ropensci.org/species/?FamCode=149\"\n",
    "\n",
    "raw_json = urllib.request.urlopen(api_url)\n",
    "decoded_json = raw_json.read().decode('utf-8')\n",
    "parsed_json = json.loads(decoded_json) ## we use the json.load method directly\n",
    "raw_json.close()\n",
    "\n",
    "\n",
    "\n",
    "for fish in range(0,10):   # to loop through each fish \n",
    "    x = (parsed_json[\"data\"][fish][\"Species\"])\n",
    "    y = (parsed_json[\"data\"][fish][\"Genus\"])\n",
    "    z = (parsed_json[\"data\"][fish][\"Dangerous\"]) \n",
    "    w = (parsed_json[\"data\"][fish][\"UsedforAquaculture\"])\n",
    "\n",
    "    print(\"The species \" + x + \" of genus \" + y + \" is \" + z + \" and is used for Aquacultures \" + w)\n",
    "\n"
   ]
  }
 ],
 "metadata": {
  "anaconda-cloud": {},
  "kernelspec": {
   "display_name": "Python [default]",
   "language": "python",
   "name": "python3"
  },
  "language_info": {
   "codemirror_mode": {
    "name": "ipython",
    "version": 3
   },
   "file_extension": ".py",
   "mimetype": "text/x-python",
   "name": "python",
   "nbconvert_exporter": "python",
   "pygments_lexer": "ipython3",
   "version": "3.5.2"
  }
 },
 "nbformat": 4,
 "nbformat_minor": 2
}
