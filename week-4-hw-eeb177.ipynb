{
 "cells": [
  {
   "cell_type": "code",
   "execution_count": 9,
   "metadata": {
    "collapsed": false
   },
   "outputs": [
    {
     "name": "stdout",
     "output_type": "stream",
     "text": [
      "TGACTAGCTAATGCATATCATAAACGATAGTATGTATATATAGCTACGCAAGTA\n"
     ]
    }
   ],
   "source": [
    "# Part 1\n",
    "\n",
    "# Complementing DNA\n",
    "\n",
    "DNA = \"ACTGATCGATTACGTATAGTATTTGCTATCATACATATATATCGATGCGTTCAT\"\n",
    "replace_T = DNA.replace('T', 'a')\n",
    "# print(replace_T)\n",
    "replace_A = replace_T.replace('A', 't')\n",
    "# print(replace_A)\n",
    "replace_C = replace_A.replace('C', 'g')\n",
    "# print(replace_C)\n",
    "replace_G = replace_C.replace('G', 'c')\n",
    "# print(replace_G)\n",
    "print(replace_G.upper())\n"
   ]
  },
  {
   "cell_type": "code",
   "execution_count": 12,
   "metadata": {
    "collapsed": false
   },
   "outputs": [
    {
     "name": "stdout",
     "output_type": "stream",
     "text": [
      "22\n",
      "33\n"
     ]
    }
   ],
   "source": [
    "# Restriction Fragment Sites\n",
    "\n",
    "DNA2 = \"ACTGATCGATTACGTATAGTAGAATTCTATCATACATATATATCGATGCGTTCAT\"\n",
    "length1 = DNA2.find(\"GAATTC\") + 1\n",
    "length2 = len(DNA2) - length1\n",
    "print(length1)\n",
    "print(length2)"
   ]
  },
  {
   "cell_type": "code",
   "execution_count": 16,
   "metadata": {
    "collapsed": false
   },
   "outputs": [
    {
     "name": "stdout",
     "output_type": "stream",
     "text": [
      "ATCGATCGATCGATCGACTGACTAGTCATAGCTATGCATGTAGCTACTCGATCGATCGATCGATTCATCGATCGATATCGATGCATCGACTACTAT\n"
     ]
    }
   ],
   "source": [
    "# Splicing out introns, part one\n",
    "\n",
    "DNA3 = \"ATCGATCGATCGATCGACTGACTAGTCATAGCTATGCATGTAGCTACTCGATCGATCGATCGATCGATCGATCGATCGATCGATCATGCTATCATCGATCGATATCGATGCATCGACTACTAT\"\n",
    "Exon1 = DNA3[0:64]\n",
    "Exon2 = DNA3[91:]\n",
    "print(Exon1 + Exon2)\n",
    "\n"
   ]
  },
  {
   "cell_type": "code",
   "execution_count": 21,
   "metadata": {
    "collapsed": false
   },
   "outputs": [
    {
     "name": "stdout",
     "output_type": "stream",
     "text": [
      "78.04878048780488\n"
     ]
    }
   ],
   "source": [
    "# Splicing out introns, part two\n",
    "\n",
    "DNA4 = \"ATCGATCGATCGATCGACTGACTAGTCATAGCTATGCATGTAGCTACTCGATCGATCGATCGATCGATCGATCGATCGATCGATCATGCTATCATCGATCGATATCGATGCATCGACTACTAT\"\n",
    "Exon1 = DNA4[0:64]\n",
    "Exon2 = DNA4[91:]\n",
    "length_exon = len(Exon1 + Exon2)\n",
    "length_total = len(DNA4)\n",
    "print((length_exon / length_total) * 100)\n"
   ]
  },
  {
   "cell_type": "code",
   "execution_count": 25,
   "metadata": {
    "collapsed": false
   },
   "outputs": [
    {
     "name": "stdout",
     "output_type": "stream",
     "text": [
      "ATCGATCGATCGATCGACTGACTAGTCATAGCTATGCATGTAGCTACTCGATCGATCGATCGATcgatcgatcgatcgatcgatcatgctTCATCGATCGATATCGATGCATCGACTACTAT\n"
     ]
    }
   ],
   "source": [
    "# Splicing out introns, part three\n",
    "\n",
    "DNA5 = \"ATCGATCGATCGATCGACTGACTAGTCATAGCTATGCATGTAGCTACTCGATCGATCGATCGATCGATCGATCGATCGATCGATCATGCTATCATCGATCGATATCGATGCATCGACTACTAT\"\n",
    "Exon1 = DNA5[0:64]\n",
    "Exon2 = DNA5[91:]\n",
    "# Coding = (Exon1 + Exon2)\n",
    "Noncoding = DNA5[64:90]\n",
    "print(Exon1 + Noncoding.lower() + Exon2)\n"
   ]
  },
  {
   "cell_type": "code",
   "execution_count": 32,
   "metadata": {
    "collapsed": false
   },
   "outputs": [
    {
     "data": {
      "text/plain": [
       "27"
      ]
     },
     "execution_count": 32,
     "metadata": {},
     "output_type": "execute_result"
    }
   ],
   "source": [
    "# Part 2\n",
    "\n",
    "# my_file_name = \"dna.txt\"❶\n",
    "# my_file = open(my_file_name)❷\n",
    "# my_file_contents = my_file.read()❸\n",
    "\n",
    "# Splitting genomic DNA\n",
    "\n",
    "#DNA = \"ATCGATCGATCGATCGACTGACTAGTCATAGCTATGCATGTAGCTACTCGATCGATCGATCGATCGATCGATCGATCGATCGATCATGCTATCATCGATCGATATCGATGCATCGACTACTAT\"\n",
    "\n",
    "\n",
    "file = open(\"/home/eeb177-student/Desktop/p4b_and_ap4b/python_for_biologists_examples_and_exercises/Chapter 3/exercises/genomic_dna.txt\")\n",
    "DNA = file.read()\n",
    "\n",
    "Exon1 = DNA[0:64]\n",
    "Exon2 = DNA[90:]\n",
    "Noncoding = DNA[63:90]\n",
    "\n",
    "file_code = open(\"/home/eeb177-student/Desktop/p4b_and_ap4b/python_for_biologists_examples_and_exercises/Chapter 3/exercises/coding_dna.txt\", \"w\")\n",
    "file_noncoding = open(\"/home/eeb177-student/Desktop/p4b_and_ap4b/python_for_biologists_examples_and_exercises/Chapter 3/exercises/noncoding_dna.txt\", \"w\")\n",
    "\n",
    "file_code.write(Exon1 + Exon2)\n",
    "file_noncoding.write(Noncoding)\n",
    "\n"
   ]
  },
  {
   "cell_type": "code",
   "execution_count": 34,
   "metadata": {
    "collapsed": false
   },
   "outputs": [
    {
     "name": "stdout",
     "output_type": "stream",
     "text": [
      ">ABC123\n",
      "ATCGTACGATCGATCGATCGCTAGACGTATCG\n",
      ">DEF456\n",
      "ACTGATCGACGATCGATCGATCACGACT\n",
      ">HIJ789\n",
      "ACTGACACTGTACTGTACATGTG\n"
     ]
    },
    {
     "data": {
      "text/plain": [
       "31"
      ]
     },
     "execution_count": 34,
     "metadata": {},
     "output_type": "execute_result"
    }
   ],
   "source": [
    "# Writing a FASTA file\n",
    "\n",
    "header_1 = \"ABC123\"\n",
    "header_2 = \"DEF456\"\n",
    "header_3 = \"HIJ789\"\n",
    "seq_1 = \"ATCGTACGATCGATCGATCGCTAGACGTATCG\"\n",
    "seq_2 = \"actgatcgacgatcgatcgatcacgact\"\n",
    "seq_3 = \"ACTGAC-ACTGT--ACTGTA----CATGTG\"\n",
    "\n",
    "print('>' + header_1 + '\\n' + seq_1)\n",
    "print('>' + header_2 + '\\n' + seq_2.upper())\n",
    "print('>' + header_3 + '\\n' + seq_3.replace('-', ''))\n",
    "\n",
    "output = open(\"sequences.fasta\", \"w\")\n",
    "output.write('>' + header_1 + '\\n' + seq_1)\n",
    "output.write('>' + header_2 + '\\n' + seq_2.upper())\n",
    "output.write('>' + header_3 + '\\n' + seq_3.replace('-', ''))\n",
    "\n",
    "#when opening sequences.fasta, code appears!"
   ]
  },
  {
   "cell_type": "code",
   "execution_count": 36,
   "metadata": {
    "collapsed": false
   },
   "outputs": [
    {
     "name": "stdout",
     "output_type": "stream",
     "text": [
      "processed sequence with length 43\n",
      "processed sequence with length 38\n",
      "processed sequence with length 49\n",
      "processed sequence with length 34\n",
      "processed sequence with length 48\n"
     ]
    }
   ],
   "source": [
    "# Part 3\n",
    "\n",
    "# Processing DNA in a file\n",
    "\n",
    "# need to add path to .txt\n",
    "file = open(\"/home/eeb177-student/Desktop/p4b_and_ap4b/python_for_biologists_examples_and_exercises/Chapter 4/exercises/input.txt\")\n",
    "output = open(\"/home/eeb177-student/Desktop/p4b_and_ap4b/python_for_biologists_examples_and_exercises/Chapter 4/exercises/trimmed.txt\", \"w\")\n",
    "\n",
    "for DNA in file:\n",
    "    trimmed = DNA[14:]\n",
    "    print(\"processed sequence with length \" + str(len(trimmed)))\n",
    "    \n",
    "output.write(trimmed)\n",
    "output.close()\n"
   ]
  },
  {
   "cell_type": "code",
   "execution_count": 39,
   "metadata": {
    "collapsed": false
   },
   "outputs": [],
   "source": [
    "# Multiple exons from genomic DNA\n",
    "\n",
    "genomic_dna = open(\"/home/eeb177-student/Desktop/p4b_and_ap4b/python_for_biologists_examples_and_exercises/Chapter 4/exercises/genomic_dna.txt\").read()\n",
    "exon_location = open(\"/home/eeb177-student/Desktop/p4b_and_ap4b/python_for_biologists_examples_and_exercises/Chapter 4/exercises/exons.txt\")\n",
    "sequence = \"\"\n",
    "\n",
    "for line in exon_location:\n",
    "    positions = line.split(',')\n",
    "    \n",
    "    start = int(positions[0])\n",
    "    stop = int(positions[1])\n",
    "    \n",
    "    exon = genomic_dna[start:stop]\n",
    "    sequence = sequence + exon\n",
    "    \n",
    "output = open(\"/home/eeb177-student/Desktop/p4b_and_ap4b/python_for_biologists_examples_and_exercises/Chapter 4/exercises/coding_sequence.txt\", \"w\")\n",
    "output.write(sequence)\n",
    "output.close()"
   ]
  }
 ],
 "metadata": {
  "anaconda-cloud": {},
  "kernelspec": {
   "display_name": "Python [default]",
   "language": "python",
   "name": "python3"
  },
  "language_info": {
   "codemirror_mode": {
    "name": "ipython",
    "version": 3
   },
   "file_extension": ".py",
   "mimetype": "text/x-python",
   "name": "python",
   "nbconvert_exporter": "python",
   "pygments_lexer": "ipython3",
   "version": "3.5.2"
  }
 },
 "nbformat": 4,
 "nbformat_minor": 2
}
