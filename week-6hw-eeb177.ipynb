{
 "cells": [
  {
   "cell_type": "markdown",
   "metadata": {},
   "source": [
    "# Part 1: Code Academy Review\n",
    "\n",
    "### for the first two courses, I was unable to get a screenshot of the badge- I think because I started this code academy course over the summer."
   ]
  },
  {
   "cell_type": "markdown",
   "metadata": {},
   "source": [
    "## 1. Python Syntax\n",
    "<img src=\"script.py_course1.png\">"
   ]
  },
  {
   "cell_type": "markdown",
   "metadata": {},
   "source": [
    "## 2. String and Console Output\n",
    "<img src=\"strings&console.output_course2.png\">"
   ]
  },
  {
   "cell_type": "markdown",
   "metadata": {},
   "source": [
    "## 3. Conditionals and Control Flow\n",
    "<img src=\"Conditionals&ControlFlow_course3.png\">"
   ]
  },
  {
   "cell_type": "markdown",
   "metadata": {},
   "source": [
    "## 4. Functions\n",
    "<img src=\"Functions_course4.png\">"
   ]
  },
  {
   "cell_type": "markdown",
   "metadata": {},
   "source": [
    "## 5. Python Lists and Dictionaries\n",
    "<img src= \"lists.nd.finctions_course5.png\">"
   ]
  },
  {
   "cell_type": "markdown",
   "metadata": {},
   "source": [
    "## 6. Lists and Functions\n",
    "<img src= \"lists.and.functions_course6.png\">"
   ]
  },
  {
   "cell_type": "markdown",
   "metadata": {},
   "source": [
    "## 7. Loops\n",
    "<img src= \"loops_course7.png\">"
   ]
  },
  {
   "cell_type": "markdown",
   "metadata": {},
   "source": [
    "## 8. Practice Makes Perfect\n",
    "<img src= \"Practice.makes.perfect_course8.png\">"
   ]
  },
  {
   "cell_type": "markdown",
   "metadata": {},
   "source": [
    "# Part 2"
   ]
  },
  {
   "cell_type": "markdown",
   "metadata": {},
   "source": [
    "gencode = {\n",
    "'ATA':'I', 'ATC':'I', 'ATT':'I', 'ATG':'M',\n",
    "...\n",
    "'TGC':'C', 'TGT':'C', 'TGA':'_', 'TGG':'W'}\n",
    "\n",
    "• split the DNA sequence into codons\n",
    "• look up the amino acid residue for each codon\n",
    "• join all the amino acids to give a protein\n"
   ]
  },
  {
   "cell_type": "code",
   "execution_count": null,
   "metadata": {
    "collapsed": true
   },
   "outputs": [],
   "source": [
    "`# create a for loop to split DNA into codons`\n",
    "`DNA_strand = \"ATGCCUUGACUT\"\n",
    "    \n",
    "    `for DNA in range(0, 7, 3)   \n",
    "        # first number is start, second is stop, and third is the size\n",
    "        codon = DNA_strand[start:start + 3] \n",
    "        #use get to aa from dictionary\n",
    "        amino_acid = gencode.get(codon)\n",
    "    print(\"the triplet codon \" + codon + \" encodes for the amino acid \" + amino_acid)\n",
    "\n",
    "#need to find a way to join these amino acids to give a protein`\n",
    "`#define a function\n",
    "def translation(DNA_strand):\n",
    "    end_codon = len(DNA_strand) - 2\n",
    "    protein = \"\"\n",
    "    #create another for loop to join aminoacids\n",
    "    for start in range\n",
    "        codon = dna[start:start + 3] \n",
    "        amino_acid = gencode.get()\n",
    "        protein = protein + aa\n",
    "    return protein`\n",
    "    "
   ]
  },
  {
   "cell_type": "markdown",
   "metadata": {},
   "source": [
    "# Part 3"
   ]
  },
  {
   "cell_type": "markdown",
   "metadata": {},
   "source": [
    "1. Write simulation program 4.3.2"
   ]
  },
  {
   "cell_type": "code",
   "execution_count": 4,
   "metadata": {
    "collapsed": false,
    "scrolled": true
   },
   "outputs": [
    {
     "data": {
      "text/plain": [
       "[('a', 'A'),\n",
       " ('a', 'A'),\n",
       " ('a', 'A'),\n",
       " ('a', 'A'),\n",
       " ('a', 'A'),\n",
       " ('a', 'a'),\n",
       " ('a', 'a'),\n",
       " ('a', 'A'),\n",
       " ('a', 'a'),\n",
       " ('a', 'A')]"
      ]
     },
     "execution_count": 4,
     "metadata": {},
     "output_type": "execute_result"
    }
   ],
   "source": [
    "import scipy\n",
    "def build_population (N, p):\n",
    "    \"\"\"The population consists of N individuals. Each individual has two chromosomes, containing allele \"A\" or \"a\", with probability p and 1-p, respectively.\n",
    "    \n",
    "    The population is a list of tuples.\"\"\"\n",
    "    population = []\n",
    "    for i in range(N):\n",
    "        if scipy.random.rand() > p:\n",
    "            allele1 = \"a\"\n",
    "        allele2 = \"A\"\n",
    "        if scipy.random.rand() > p:\n",
    "            allele2 = \"a\"\n",
    "        population.append((allele1, allele2))\n",
    "    return population\n",
    "\n",
    "\n",
    "build_population(10, 0.7)"
   ]
  },
  {
   "cell_type": "code",
   "execution_count": 11,
   "metadata": {
    "collapsed": false
   },
   "outputs": [
    {
     "data": {
      "text/plain": [
       "{'AA': 0, 'Aa': 0, 'aA': 5, 'aa': 1}"
      ]
     },
     "execution_count": 11,
     "metadata": {},
     "output_type": "execute_result"
    }
   ],
   "source": [
    "def compute_frequencies(population):\n",
    "    \"\"\"Count the genotypes.\n",
    "        Returns a dictionary with counts for each genotype.\"\"\"\n",
    "    AA = population.count(('A', 'A'))\n",
    "    Aa = population.count(('A', 'a'))\n",
    "    aA = population.count(('a', 'A'))\n",
    "    aa = population.count(('a', 'a'))\n",
    "    return ({'AA': AA,\n",
    "            'aa': aa,\n",
    "            'Aa': Aa,\n",
    "            'aA': aA})\n",
    "\n",
    "\n",
    "my_pop = build_population(6, 0.5)\n",
    "\n",
    "\n",
    "compute_frequencies(my_pop)"
   ]
  },
  {
   "cell_type": "code",
   "execution_count": 26,
   "metadata": {
    "collapsed": false
   },
   "outputs": [
    {
     "data": {
      "text/plain": [
       "[('A', 'a'), ('a', 'A'), ('A', 'a'), ('a', 'A'), ('A', 'a'), ('A', 'a')]"
      ]
     },
     "execution_count": 26,
     "metadata": {},
     "output_type": "execute_result"
    }
   ],
   "source": [
    "def reproduce_population(population):\n",
    "    \"\"\" Create a new generation through sexual reproduction\n",
    "        For each of N new offspring:\n",
    "        - Choose the parents at random\n",
    "        - The offspring receives a chromosomes from each of\n",
    "        the parents\n",
    "    \"\"\"\n",
    "    new_generation = []\n",
    "    N = len(population)\n",
    "    for i in range(N):\n",
    "        dad = scipy.random.randint(N) # random integer\n",
    "            #between 0 and N-1\n",
    "        mom = scipy.random.randint(N)\n",
    "        chr_mom = scipy.random.randint(2) # which chromosome\n",
    "            #comes from mom\n",
    "        offspring = (population[mom][chr_mom], population[\n",
    "            dad][1 - chr_mom])\n",
    "        new_generation.append(offspring)\n",
    "    return(new_generation)\n",
    "\n",
    "reproduce_population(my_pop)"
   ]
  },
  {
   "cell_type": "code",
   "execution_count": 32,
   "metadata": {
    "collapsed": false
   },
   "outputs": [
    {
     "ename": "ImportError",
     "evalue": "No module named 'drift'",
     "output_type": "error",
     "traceback": [
      "\u001b[0;31m---------------------------------------------------------------------------\u001b[0m",
      "\u001b[0;31mImportError\u001b[0m                               Traceback (most recent call last)",
      "\u001b[0;32m<ipython-input-32-8a6b34f68798>\u001b[0m in \u001b[0;36m<module>\u001b[0;34m()\u001b[0m\n\u001b[0;32m----> 1\u001b[0;31m \u001b[0;32mimport\u001b[0m \u001b[0mdrift\u001b[0m\u001b[0;34m\u001b[0m\u001b[0m\n\u001b[0m\u001b[1;32m      2\u001b[0m \u001b[0;34m\u001b[0m\u001b[0m\n\u001b[1;32m      3\u001b[0m \u001b[0;32mdef\u001b[0m \u001b[0msimulate_drift\u001b[0m\u001b[0;34m(\u001b[0m\u001b[0mN\u001b[0m\u001b[0;34m,\u001b[0m \u001b[0mp\u001b[0m\u001b[0;34m)\u001b[0m\u001b[0;34m:\u001b[0m\u001b[0;34m\u001b[0m\u001b[0m\n\u001b[1;32m      4\u001b[0m     \u001b[0;31m# initialize the population\u001b[0m\u001b[0;34m\u001b[0m\u001b[0;34m\u001b[0m\u001b[0m\n\u001b[1;32m      5\u001b[0m     \u001b[0mmy_pop\u001b[0m \u001b[0;34m=\u001b[0m \u001b[0mdrift\u001b[0m\u001b[0;34m.\u001b[0m\u001b[0mbuild_population\u001b[0m\u001b[0;34m(\u001b[0m\u001b[0mN\u001b[0m\u001b[0;34m,\u001b[0m \u001b[0mp\u001b[0m\u001b[0;34m)\u001b[0m\u001b[0;34m\u001b[0m\u001b[0m\n",
      "\u001b[0;31mImportError\u001b[0m: No module named 'drift'"
     ]
    }
   ],
   "source": [
    "import drift\n",
    "\n",
    "def simulate_drift(N, p):\n",
    "    # initialize the population\n",
    "    my_pop = drift.build_population(N, p)\n",
    "    fixation = False\n",
    "    num_generations = 0\n",
    "    while fixation == False:\n",
    "        # compute genotype counts\n",
    "        genotype_counts = drift.compute_frequencies(my_pop)\n",
    "        # if one allele went to fixation, end the simulation\n",
    "        if genotype_counts['AA'] == N or genotype_counts['aa'] == N:\n",
    "            print('An allele reached fixation at generation', num_generations)\n",
    "            print('The genotype counts are')\n",
    "            print(genotype_counts)\n",
    "            fixation == True\n",
    "            break\n",
    "    # if not, reproduce\n",
    "    my_pop = drift.reproduce_population(my_pop)\n",
    "    num_generations = num_generations + 1\n",
    "    \n",
    "simulate_drift(100, 0.5)\n",
    "simulate_drift(100, 0.9)"
   ]
  },
  {
   "cell_type": "markdown",
   "metadata": {},
   "source": [
    "## 2. Do part 1 of question 4.9.1"
   ]
  },
  {
   "cell_type": "code",
   "execution_count": 65,
   "metadata": {
    "collapsed": false
   },
   "outputs": [
    {
     "name": "stdout",
     "output_type": "stream",
     "text": [
      "Enter taxon: Fish\n",
      "0.39719005173783783\n"
     ]
    }
   ],
   "source": [
    "import csv\n",
    "\n",
    "\n",
    "total = 0\n",
    "taxonCount = 0\n",
    "with open('Jiang2013_data.csv', encoding= \"ISO-8859-1\") as csv_file:\n",
    "    taxon = input(\"Enter taxon: \")\n",
    "    reader=csv.reader(csv_file)\n",
    "    for line in reader:\n",
    "        if len(line) > 0:\n",
    "            split_line = line[0].split()\n",
    "            if split_line[2] == taxon:\n",
    "                taxonCount += 1\n",
    "                total += float(split_line[4])\n",
    "print(total/taxonCount)"
   ]
  }
 ],
 "metadata": {
  "anaconda-cloud": {},
  "kernelspec": {
   "display_name": "Python [default]",
   "language": "python",
   "name": "python3"
  },
  "language_info": {
   "codemirror_mode": {
    "name": "ipython",
    "version": 3
   },
   "file_extension": ".py",
   "mimetype": "text/x-python",
   "name": "python",
   "nbconvert_exporter": "python",
   "pygments_lexer": "ipython3",
   "version": "3.5.2"
  }
 },
 "nbformat": 4,
 "nbformat_minor": 2
}
